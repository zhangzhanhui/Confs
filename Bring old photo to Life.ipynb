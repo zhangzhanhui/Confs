{
  "nbformat": 4,
  "nbformat_minor": 0,
  "metadata": {
    "colab": {
      "name": "Untitled0.ipynb",
      "provenance": [],
      "collapsed_sections": [],
      "authorship_tag": "ABX9TyMJwsq263L7nofjmJucobxP",
      "include_colab_link": true
    },
    "kernelspec": {
      "name": "python3",
      "display_name": "Python 3"
    },
    "language_info": {
      "name": "python"
    }
  },
  "cells": [
    {
      "cell_type": "markdown",
      "metadata": {
        "id": "view-in-github",
        "colab_type": "text"
      },
      "source": [
        "<a href=\"https://colab.research.google.com/github/zhangzhanhui/Confs/blob/master/Bring%20old%20photo%20to%20Life.ipynb\" target=\"_parent\"><img src=\"https://colab.research.google.com/assets/colab-badge.svg\" alt=\"Open In Colab\"/></a>"
      ]
    },
    {
      "cell_type": "markdown",
      "metadata": {
        "id": "69IcI0XkqNL1"
      },
      "source": [
        "Clone the Synchronized-BatchNorm-PyTorch repository for"
      ]
    },
    {
      "cell_type": "code",
      "metadata": {
        "id": "X-HJWGChqWcE"
      },
      "source": [
        "!rm -rf Face_Enhancement\n",
        "!mkdir -p Face_Enhancement/models/networks\n",
        "!cd Face_Enhancement/models/networks/\n",
        "!git clone https://github.com/vacancy/Synchronized-BatchNorm-PyTorch\n",
        "!cp -rf Synchronized-BatchNorm-PyTorch/sync_batchnorm .\n",
        "!cd ../../../\n",
        "!cd Global/detection_models\n",
        "!git clone https://github.com/vacancy/Synchronized-BatchNorm-PyTorch\n",
        "!cp -rf Synchronized-BatchNorm-PyTorch/sync_batchnorm .\n",
        "!cd ../../"
      ],
      "execution_count": null,
      "outputs": []
    },
    {
      "cell_type": "markdown",
      "metadata": {
        "id": "1T0Ids89qmeD"
      },
      "source": [
        "Download the landmark detection pretrained model"
      ]
    },
    {
      "cell_type": "code",
      "metadata": {
        "id": "FtAhH5zDqr90"
      },
      "source": [
        "!cd Face_Detection/\n",
        "!wget http://dlib.net/files/shape_predictor_68_face_landmarks.dat.bz2\n",
        "!bzip2 -d shape_predictor_68_face_landmarks.dat.bz2\n",
        "!cd ../"
      ],
      "execution_count": null,
      "outputs": []
    },
    {
      "cell_type": "markdown",
      "metadata": {
        "id": "395T-8lnw1wM"
      },
      "source": [
        "Download the pretrained model from Azure Blob Storage, put the file Face_Enhancement/checkpoints.zip under ./Face_Enhancement, and put the file Global/checkpoints.zip under ./Global. Then unzip them respectively."
      ]
    },
    {
      "cell_type": "code",
      "metadata": {
        "id": "TSCVsED-w5lb"
      },
      "source": [
        "!cd Face_Enhancement/\n",
        "!wget https://facevc.blob.core.windows.net/zhanbo/old_photo/pretrain/Face_Enhancement/checkpoints.zip\n",
        "!unzip checkpoints.zip\n",
        "!cd ../\n",
        "!cd Global/\n",
        "!wget https://facevc.blob.core.windows.net/zhanbo/old_photo/pretrain/Global/checkpoints.zip\n",
        "!unzip checkpoints.zip\n",
        "!cd ../"
      ],
      "execution_count": null,
      "outputs": []
    },
    {
      "cell_type": "markdown",
      "metadata": {
        "id": "HvQ_aawPw8HT"
      },
      "source": [
        "Install dependencies:"
      ]
    },
    {
      "cell_type": "code",
      "metadata": {
        "id": "bBopQdMwxCba"
      },
      "source": [
        "pip install -r requirements.txt"
      ],
      "execution_count": null,
      "outputs": []
    },
    {
      "cell_type": "markdown",
      "metadata": {
        "id": "kDklXMr_xQrd"
      },
      "source": [
        "How to use?\n",
        "Note: GPU can be set 0 or 0,1,2 or 0,2; use -1 for CPU\n",
        "1) Full Pipeline\n",
        "You could easily restore the old photos with one simple command after installation and downloading the pretrained model.\n",
        "\n",
        "For images without scratches:"
      ]
    },
    {
      "cell_type": "code",
      "metadata": {
        "id": "u6i0yT0wxkpm"
      },
      "source": [
        "python run.py --input_folder [test_image_folder_path] \\\n",
        "              --output_folder [output_path] \\\n",
        "              --GPU 0"
      ],
      "execution_count": null,
      "outputs": []
    },
    {
      "cell_type": "markdown",
      "metadata": {
        "id": "k07LWE91xoZg"
      },
      "source": [
        "For scratched images:"
      ]
    },
    {
      "cell_type": "code",
      "metadata": {
        "id": "zgxhsZQ6xp0M"
      },
      "source": [
        "python run.py --input_folder [test_image_folder_path] \\\n",
        "              --output_folder [output_path] \\\n",
        "              --GPU 0 \\\n",
        "              --with_scratch"
      ],
      "execution_count": null,
      "outputs": []
    },
    {
      "cell_type": "markdown",
      "metadata": {
        "id": "8xQSUSKOxtWu"
      },
      "source": [
        "Note: Please try to use the absolute path. The final results will be saved in ./output_path/final_output/. You could also check the produced results of different steps in output_path.\n",
        "\n",
        "2) Scratch Detection\n",
        "Currently we don't plan to release the scratched old photos dataset with labels directly. If you want to get the paired data, you could use our pretrained model to test the collected images to obtain the labels."
      ]
    },
    {
      "cell_type": "code",
      "metadata": {
        "id": "6GH9RRiWx0Y-"
      },
      "source": [
        "cd Global/\n",
        "python detection.py --test_path [test_image_folder_path] \\\n",
        "                    --output_dir [output_path] \\\n",
        "                    --input_size [resize_256|full_size|scale_256]"
      ],
      "execution_count": null,
      "outputs": []
    },
    {
      "cell_type": "markdown",
      "metadata": {
        "id": "DKUh1a8Dx3cu"
      },
      "source": [
        "3) Global Restoration\n",
        "A triplet domain translation network is proposed to solve both structured degradation and unstructured degradation of old photos."
      ]
    },
    {
      "cell_type": "code",
      "metadata": {
        "id": "JfwpDRaGyDIL"
      },
      "source": [
        "cd Global/\n",
        "python test.py --Scratch_and_Quality_restore \\\n",
        "               --test_input [test_image_folder_path] \\\n",
        "               --test_mask [corresponding mask] \\\n",
        "               --outputs_dir [output_path]\n",
        "\n",
        "python test.py --Quality_restore \\\n",
        " --test_input [test_image_folder_path] \\\n",
        " --outputs_dir [output_path]"
      ],
      "execution_count": null,
      "outputs": []
    },
    {
      "cell_type": "markdown",
      "metadata": {
        "id": "4BcIiNf0yEx6"
      },
      "source": [
        "4) Face Enhancement\n",
        "We use a progressive generator to refine the face regions of old photos. More details could be found in our journal submission and ./Face_Enhancement folder.\n",
        "\n"
      ]
    }
  ]
}